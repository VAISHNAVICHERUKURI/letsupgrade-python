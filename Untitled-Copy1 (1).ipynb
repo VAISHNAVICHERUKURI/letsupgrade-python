{
 "cells": [
  {
   "cell_type": "markdown",
   "metadata": {},
   "source": [
    "# ASSIGNMENT-1 DAY-3"
   ]
  },
  {
   "cell_type": "code",
   "execution_count": 21,
   "metadata": {},
   "outputs": [
    {
     "name": "stdout",
     "output_type": "stream",
     "text": [
      "go around and try later\n"
     ]
    }
   ],
   "source": [
    "altitude=6000\n",
    "if altitude<=1000:\n",
    "    print(\"safe to land\")\n",
    "elif altitude<=5000:\n",
    "    print(\"come down to 1000ft\")\n",
    "else:\n",
    "    print(\"go around and try later\")\n",
    " "
   ]
  },
  {
   "cell_type": "code",
   "execution_count": 23,
   "metadata": {},
   "outputs": [
    {
     "name": "stdout",
     "output_type": "stream",
     "text": [
      "come down to 1000ft\n"
     ]
    }
   ],
   "source": [
    "altitude=2500\n",
    "if altitude<=1000:\n",
    "    print(\"safe to land\")\n",
    "elif altitude<=5000:\n",
    "    print(\"come down to 1000ft\")\n",
    "else:\n",
    "    print(\"go around and try later\")"
   ]
  },
  {
   "cell_type": "code",
   "execution_count": 24,
   "metadata": {},
   "outputs": [
    {
     "name": "stdout",
     "output_type": "stream",
     "text": [
      "safe to land\n"
     ]
    }
   ],
   "source": [
    "altitude=1000\n",
    "if altitude<=1000:\n",
    "    print(\"safe to land\")\n",
    "elif altitude<=5000:\n",
    "    print(\"come down to 1000ft\")\n",
    "else:\n",
    "    print(\"go around and try later\")"
   ]
  },
  {
   "cell_type": "markdown",
   "metadata": {},
   "source": [
    "# ASSIGNMENT-2 DAY-3"
   ]
  },
  {
   "cell_type": "code",
   "execution_count": 71,
   "metadata": {},
   "outputs": [
    {
     "name": "stdout",
     "output_type": "stream",
     "text": [
      "2 is a prime\n",
      "3 is a prime\n",
      "5 is a prime\n",
      "7 is a prime\n",
      "11 is a prime\n",
      "13 is a prime\n",
      "17 is a prime\n",
      "19 is a prime\n",
      "23 is a prime\n",
      "29 is a prime\n",
      "31 is a prime\n",
      "37 is a prime\n",
      "41 is a prime\n",
      "43 is a prime\n",
      "47 is a prime\n",
      "53 is a prime\n",
      "59 is a prime\n",
      "61 is a prime\n",
      "67 is a prime\n",
      "71 is a prime\n",
      "73 is a prime\n",
      "79 is a prime\n",
      "83 is a prime\n",
      "89 is a prime\n",
      "97 is a prime\n",
      "101 is a prime\n",
      "103 is a prime\n",
      "107 is a prime\n",
      "109 is a prime\n",
      "113 is a prime\n",
      "127 is a prime\n",
      "131 is a prime\n",
      "137 is a prime\n",
      "139 is a prime\n",
      "149 is a prime\n",
      "151 is a prime\n",
      "157 is a prime\n",
      "163 is a prime\n",
      "167 is a prime\n",
      "173 is a prime\n",
      "179 is a prime\n",
      "181 is a prime\n",
      "191 is a prime\n",
      "193 is a prime\n",
      "197 is a prime\n",
      "199 is a prime\n"
     ]
    }
   ],
   "source": [
    "lower = 1\n",
    "upper = 200\n",
    "for num in range(lower, upper + 1):\n",
    "    if num > 1:\n",
    "       for i in range(2,num):\n",
    "           if (num % i) == 0:\n",
    "               break\n",
    "       else:\n",
    "           print(num,\"is a prime\")"
   ]
  },
  {
   "cell_type": "code",
   "execution_count": null,
   "metadata": {},
   "outputs": [],
   "source": []
  },
  {
   "cell_type": "code",
   "execution_count": null,
   "metadata": {},
   "outputs": [],
   "source": []
  }
 ],
 "metadata": {
  "kernelspec": {
   "display_name": "Python 3",
   "language": "python",
   "name": "python3"
  },
  "language_info": {
   "codemirror_mode": {
    "name": "ipython",
    "version": 3
   },
   "file_extension": ".py",
   "mimetype": "text/x-python",
   "name": "python",
   "nbconvert_exporter": "python",
   "pygments_lexer": "ipython3",
   "version": "3.6.10"
  }
 },
 "nbformat": 4,
 "nbformat_minor": 4
}
