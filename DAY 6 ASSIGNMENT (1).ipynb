{
 "cells": [
  {
   "cell_type": "markdown",
   "metadata": {},
   "source": [
    "# 1.CREATING A BANK ACCOUNT "
   ]
  },
  {
   "cell_type": "code",
   "execution_count": 9,
   "metadata": {},
   "outputs": [
    {
     "name": "stdout",
     "output_type": "stream",
     "text": [
      "910\n"
     ]
    }
   ],
   "source": [
    "class BankAccount(object):\n",
    "    def __init__(self, initial_balance=10):\n",
    "        self.balance = initial_balance\n",
    "    def deposit(self, amount):\n",
    "        self.balance += amount\n",
    "    def withdraw(self, amount):\n",
    "        self.balance -= amount\n",
    "    def overdrawn(self):\n",
    "        return \n",
    "my_account = BankAccount(1000)\n",
    "my_account.withdraw(100)\n",
    "my_account.deposit(10)\n",
    "print (my_account.balance)"
   ]
  },
  {
   "cell_type": "markdown",
   "metadata": {},
   "source": [
    "# 2.TO FIND THE VOLUME AND SURFACE AREA OF CONE"
   ]
  },
  {
   "cell_type": "code",
   "execution_count": 10,
   "metadata": {},
   "outputs": [
    {
     "name": "stdout",
     "output_type": "stream",
     "text": [
      "Please Enter the Radius of a Cone: 6\n",
      "Please Enter the Height of a Cone: 12\n",
      "\n",
      " Length of a Side (Slant)of a Cone = 13.42\n",
      " The Surface Area of a Cone = 365.99 \n",
      " The Volume of a Cone = 452.39\n",
      " The Lateral Surface Area of a Cone = 252.89 \n"
     ]
    }
   ],
   "source": [
    "import math\n",
    "\n",
    "radius = float(input('Please Enter the Radius of a Cone: '))\n",
    "height = float(input('Please Enter the Height of a Cone: '))\n",
    "l = math.sqrt(radius * radius + height * height)\n",
    "SA = math.pi * radius * (radius + l)\n",
    "Volume = (1.0/3) * math.pi * radius * radius * height\n",
    "LSA = math.pi * radius  * l\n",
    "\n",
    "print(\"\\n Length of a Side (Slant)of a Cone = %.2f\" %l)\n",
    "print(\" The Surface Area of a Cone = %.2f \" %SA)\n",
    "print(\" The Volume of a Cone = %.2f\" %Volume);\n",
    "print(\" The Lateral Surface Area of a Cone = %.2f \" %LSA)"
   ]
  },
  {
   "cell_type": "code",
   "execution_count": null,
   "metadata": {},
   "outputs": [],
   "source": []
  }
 ],
 "metadata": {
  "kernelspec": {
   "display_name": "Python 3",
   "language": "python",
   "name": "python3"
  },
  "language_info": {
   "codemirror_mode": {
    "name": "ipython",
    "version": 3
   },
   "file_extension": ".py",
   "mimetype": "text/x-python",
   "name": "python",
   "nbconvert_exporter": "python",
   "pygments_lexer": "ipython3",
   "version": "3.6.10"
  }
 },
 "nbformat": 4,
 "nbformat_minor": 4
}
