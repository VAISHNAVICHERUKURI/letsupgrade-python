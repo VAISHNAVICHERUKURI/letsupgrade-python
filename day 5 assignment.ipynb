{
 "cells": [
  {
   "cell_type": "markdown",
   "metadata": {},
   "source": [
    "# 1.TO IDENTIFY SUBLIST IS THERE IN THE GIVEN LIST"
   ]
  },
  {
   "cell_type": "code",
   "execution_count": 2,
   "metadata": {},
   "outputs": [
    {
     "name": "stdout",
     "output_type": "stream",
     "text": [
      "Original list : [2, 4, 1, 8, 1, 9, 5, 6]\n",
      "Original sub list : [1, 1, 5]\n",
      "Yes, IT IS A MATCH.\n"
     ]
    }
   ],
   "source": [
    "test_list = [2,4,1,8,1,9,5,6] \n",
    "sub_list = [1,1,5] \n",
    "print (\"Original list : \" + str(test_list)) \n",
    "print (\"Original sub list : \" + str(sub_list))   \n",
    "flag = 0\n",
    "if(set(sub_list).issubset(set(test_list))): \n",
    "    flag = 1\n",
    "if (flag) : \n",
    "    print (\"Yes, IT IS A MATCH.\") \n",
    "else : \n",
    "    print (\"No, IT IS GONE.\") \n",
    "                 \n"
   ]
  },
  {
   "cell_type": "markdown",
   "metadata": {},
   "source": [
    "# 2.TO FILTER ALL PRIME NUMBERS FROM 1-2500"
   ]
  },
  {
   "cell_type": "code",
   "execution_count": null,
   "metadata": {},
   "outputs": [],
   "source": []
  }
 ],
 "metadata": {
  "kernelspec": {
   "display_name": "Python 3",
   "language": "python",
   "name": "python3"
  },
  "language_info": {
   "codemirror_mode": {
    "name": "ipython",
    "version": 3
   },
   "file_extension": ".py",
   "mimetype": "text/x-python",
   "name": "python",
   "nbconvert_exporter": "python",
   "pygments_lexer": "ipython3",
   "version": "3.6.11"
  }
 },
 "nbformat": 4,
 "nbformat_minor": 4
}
